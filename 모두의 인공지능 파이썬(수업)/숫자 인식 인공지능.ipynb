{
  "nbformat": 4,
  "nbformat_minor": 0,
  "metadata": {
    "colab": {
      "provenance": [],
      "collapsed_sections": []
    },
    "kernelspec": {
      "name": "python3",
      "display_name": "Python 3"
    },
    "language_info": {
      "name": "python"
    },
    "accelerator": "GPU"
  },
  "cells": [
    {
      "cell_type": "code",
      "source": [
        "%tensorflow_version"
      ],
      "metadata": {
        "colab": {
          "base_uri": "https://localhost:8080/"
        },
        "id": "0DsGjFTEGZLm",
        "outputId": "5b45e820-0e07-4ff3-e73a-061952d1e8de"
      },
      "execution_count": 50,
      "outputs": [
        {
          "output_type": "stream",
          "name": "stdout",
          "text": [
            "Colab only includes TensorFlow 2.x; %tensorflow_version has no effect.\n"
          ]
        }
      ]
    },
    {
      "cell_type": "code",
      "source": [
        "# keras library\n",
        "import keras"
      ],
      "metadata": {
        "id": "rSrZ-HiR4tVC"
      },
      "execution_count": 44,
      "outputs": []
    },
    {
      "cell_type": "code",
      "source": [
        "# 개발 환경 만들기\n",
        "from tensorflow.keras.models import Sequential            # 신공망의 종류 (입력층, 은닉층, 출력층)        \n",
        "from tensorflow.keras.layers import Dense, Activation     # 레이어 도구 불러오기 (Dense:뉴런 개수, Activation:활성화 함수)\n",
        "from tensorflow.keras.utils import to_categorical         # to_categorical 유틸 도구중 함수 불러오기\n",
        "from tensorflow.keras.datasets import mnist               # mnist 데이터셋 불러오기 \n",
        "import numpy as np                                        # numpy 수학 계산 library\n",
        "import matplotlib.pyplot as plt                           # matplotlib 그래프 library 사용 (ply= pyplot 그림 그리는 library)"
      ],
      "metadata": {
        "id": "geEF8Lla5sRU"
      },
      "execution_count": 32,
      "outputs": []
    },
    {
      "cell_type": "code",
      "source": [],
      "metadata": {
        "id": "5b03kreSLnyL"
      },
      "execution_count": null,
      "outputs": []
    },
    {
      "cell_type": "code",
      "source": [
        "# 데이터셋 불러오기\n",
        "(x_train, y_train), (x_test, y_test) = mnist.load_data()  # mnist 에서 데이터셋 불러오기\n",
        "print(\"x_train shape\", x_train.shape)                     # 출력\n",
        "print(\"x_train shape\", y_train.shape)                     # or 60000개의 데이터 가로 세로 28개씩\n",
        "print(\"x_test shape\", x_test.shape)                       # 출력\n",
        "print(\"y_test shape\", y_test.shape)                       # or 10000개의 ~\n",
        "print()\n",
        "print(\"y_train shape\", y_train.shape)"
      ],
      "metadata": {
        "colab": {
          "base_uri": "https://localhost:8080/"
        },
        "id": "VsUpKP0W8D8V",
        "outputId": "d38a2b3f-cd33-4457-a035-804d94964486"
      },
      "execution_count": 53,
      "outputs": [
        {
          "output_type": "stream",
          "name": "stdout",
          "text": [
            "x_train shape (60000, 28, 28)\n",
            "x_train shape (60000,)\n",
            "x_test shape (10000, 28, 28)\n",
            "y_test shape (10000,)\n",
            "\n",
            "y_train shape (60000,)\n"
          ]
        }
      ]
    },
    {
      "cell_type": "code",
      "source": [
        "# mnist 데이터셋에서 X 형태 변경\n",
        "X_train = x_train.reshape(60000,784)                      # 28x28 형태의 데이터를 1x784로 변경\n",
        "X_test = x_test.reshape(10000,784)\n",
        "X_train = X_train.astype('float32')                       # 정규화를 위해 0~1 사이의 실수 값으로 변경\n",
        "X_test = X_test.astype('float32')\n",
        "X_train /= 255                                            # mnist(검은색 0, 흰색 255, 회색 1~254)\n",
        "X_test /= 255                                             # or 각 데이터를 255로 나눈 값\n",
        "print(\"X Training matrix shape\", X_train.shape)           # 출력\n",
        "print(\"X Testing matrix shape\", X_test.shape)"
      ],
      "metadata": {
        "colab": {
          "base_uri": "https://localhost:8080/"
        },
        "id": "cwYDgg3p8cj9",
        "outputId": "4e6d1299-6737-4c8d-88e9-36b6d038f4b6"
      },
      "execution_count": 34,
      "outputs": [
        {
          "output_type": "stream",
          "name": "stdout",
          "text": [
            "X Training matrix shape (60000, 784)\n",
            "X Testing matrix shape (10000, 784)\n"
          ]
        }
      ]
    },
    {
      "cell_type": "code",
      "source": [
        "# mnist 데이터셋에서 Y 형태 변경\n",
        "Y_train = to_categorical(y_train, 10)                     \n",
        "Y_test = to_categorical(y_test, 10)\n",
        "print(\"Y Training matrix shape\", Y_train.shape)\n",
        "print(\"Y Testing matrix shape\", Y_test.shape)"
      ],
      "metadata": {
        "colab": {
          "base_uri": "https://localhost:8080/"
        },
        "id": "dr_6jv0R9nkv",
        "outputId": "6c887eda-c822-4156-a8a5-7f6cf7b2b10a"
      },
      "execution_count": 35,
      "outputs": [
        {
          "output_type": "stream",
          "name": "stdout",
          "text": [
            "Y Training matrix shape (60000, 10)\n",
            "Y Testing matrix shape (10000, 10)\n"
          ]
        }
      ]
    },
    {
      "cell_type": "code",
      "source": [
        "# 인공지능 모델 설계\n",
        "model = Sequential()\n",
        "model.add(Dense(512, input_shape=(784,)))   # 입력784, 은닉층 512\n",
        "model.add(Activation('relu'))\n",
        "model.add(Dense(256))                       # 은닉층 256\n",
        "model.add(Activation('relu'))\n",
        "model.add(Dense(10))                        # 출력층 10\n",
        "model.add(Activation('softmax'))    \n",
        "model.summary()                             "
      ],
      "metadata": {
        "colab": {
          "base_uri": "https://localhost:8080/"
        },
        "id": "RakAMgi15sT7",
        "outputId": "7d01fbf2-83ee-49d0-f530-843cde15f71d"
      },
      "execution_count": 36,
      "outputs": [
        {
          "output_type": "stream",
          "name": "stdout",
          "text": [
            "Model: \"sequential_5\"\n",
            "_________________________________________________________________\n",
            " Layer (type)                Output Shape              Param #   \n",
            "=================================================================\n",
            " dense_12 (Dense)            (None, 512)               401920    \n",
            "                                                                 \n",
            " activation_12 (Activation)  (None, 512)               0         \n",
            "                                                                 \n",
            " dense_13 (Dense)            (None, 256)               131328    \n",
            "                                                                 \n",
            " activation_13 (Activation)  (None, 256)               0         \n",
            "                                                                 \n",
            " dense_14 (Dense)            (None, 10)                2570      \n",
            "                                                                 \n",
            " activation_14 (Activation)  (None, 10)                0         \n",
            "                                                                 \n",
            "=================================================================\n",
            "Total params: 535,818\n",
            "Trainable params: 535,818\n",
            "Non-trainable params: 0\n",
            "_________________________________________________________________\n"
          ]
        }
      ]
    },
    {
      "cell_type": "code",
      "source": [
        "# 모델 학습\n",
        "model.compile(loss='categorical_crossentropy', optimizer='adam', metrics=['accuracy'])\n",
        "model.fit(X_train, Y_train, batch_size=128, epochs=10, verbose=1)"
      ],
      "metadata": {
        "colab": {
          "base_uri": "https://localhost:8080/"
        },
        "id": "aP6wgxVd5sWz",
        "outputId": "7689db43-0468-42fb-ca7f-24037f769334"
      },
      "execution_count": 37,
      "outputs": [
        {
          "output_type": "stream",
          "name": "stdout",
          "text": [
            "Epoch 1/10\n",
            "469/469 [==============================] - 4s 3ms/step - loss: 0.2276 - accuracy: 0.9335\n",
            "Epoch 2/10\n",
            "469/469 [==============================] - 1s 3ms/step - loss: 0.0835 - accuracy: 0.9743\n",
            "Epoch 3/10\n",
            "469/469 [==============================] - 1s 3ms/step - loss: 0.0516 - accuracy: 0.9836\n",
            "Epoch 4/10\n",
            "469/469 [==============================] - 1s 3ms/step - loss: 0.0361 - accuracy: 0.9883\n",
            "Epoch 5/10\n",
            "469/469 [==============================] - 1s 3ms/step - loss: 0.0261 - accuracy: 0.9919\n",
            "Epoch 6/10\n",
            "469/469 [==============================] - 1s 3ms/step - loss: 0.0229 - accuracy: 0.9922\n",
            "Epoch 7/10\n",
            "469/469 [==============================] - 1s 3ms/step - loss: 0.0182 - accuracy: 0.9938\n",
            "Epoch 8/10\n",
            "469/469 [==============================] - 1s 3ms/step - loss: 0.0154 - accuracy: 0.9949\n",
            "Epoch 9/10\n",
            "469/469 [==============================] - 1s 3ms/step - loss: 0.0136 - accuracy: 0.9955\n",
            "Epoch 10/10\n",
            "469/469 [==============================] - 1s 3ms/step - loss: 0.0169 - accuracy: 0.9940\n"
          ]
        },
        {
          "output_type": "execute_result",
          "data": {
            "text/plain": [
              "<keras.callbacks.History at 0x7f74d06f9dd0>"
            ]
          },
          "metadata": {},
          "execution_count": 37
        }
      ]
    },
    {
      "cell_type": "code",
      "source": [
        "# 모델 정확도\n",
        "score = model.evaluate(X_test, Y_test)\n",
        "print('Test score', score[0])\n",
        "print('Test accuracy:', score[1])"
      ],
      "metadata": {
        "colab": {
          "base_uri": "https://localhost:8080/"
        },
        "id": "RVMzJ2v_5sZT",
        "outputId": "ce1e42ca-45b9-4c3e-ad4e-f6eeb2c856f0"
      },
      "execution_count": 39,
      "outputs": [
        {
          "output_type": "stream",
          "name": "stdout",
          "text": [
            "313/313 [==============================] - 1s 2ms/step - loss: 0.0821 - accuracy: 0.9801\n",
            "Test score 0.08211048692464828\n",
            "Test accuracy: 0.9800999760627747\n"
          ]
        }
      ]
    },
    {
      "cell_type": "code",
      "source": [
        "# 모델 학습 결과\n",
        "predicted_classes = np.argmax(model.predict(X_test), axis=1)\n",
        "correct_indices = np.nonzero(predicted_classes == y_test)[0]\n",
        "incorrect_indices = np.nonzero(predicted_classes != y_test)[0]"
      ],
      "metadata": {
        "id": "VcGbACrx_Z4Y"
      },
      "execution_count": 41,
      "outputs": []
    },
    {
      "cell_type": "code",
      "source": [
        "# 시각화 결과 (잘된)\n",
        "plt.figure()\n",
        "for i in range(9):\n",
        "  plt.subplot(3,3,i+1)\n",
        "  correct = correct_indices[i]\n",
        "  plt.imshow(X_test[correct].reshape(28,28), cmap='gray')\n",
        "  plt.title(\"Predicted {}, Class {}\".format(predicted_classes[correct], y_test[correct]))\n",
        "  plt.tight_layout()"
      ],
      "metadata": {
        "colab": {
          "base_uri": "https://localhost:8080/",
          "height": 297
        },
        "id": "Wqc_y6nN_4oR",
        "outputId": "f3e23d63-40ff-4e63-95fd-4c44a0d62bfe"
      },
      "execution_count": 43,
      "outputs": [
        {
          "output_type": "display_data",
          "data": {
            "text/plain": [
              "<Figure size 432x288 with 9 Axes>"
            ],
            "image/png": "[encoded data removed]"
          },
          "metadata": {
            "needs_background": "light"
          }
        }
      ]
    },
    {
      "cell_type": "code",
      "source": [
        "# 시각화 결과 (잘못된)\n",
        "plt.figure()\n",
        "for i in range(9):\n",
        "  plt.subplot(3,3,i+1)\n",
        "  incorrect = incorrect_indices[i]\n",
        "  plt.imshow(X_test[incorrect].reshape(28,28), cmap='gray')\n",
        "  plt.title(\"Predicted {}, Class {}\".format(predicted_classes[incorrect], y_test[incorrect]))\n",
        "  plt.tight_layout()"
      ],
      "metadata": {
        "colab": {
          "base_uri": "https://localhost:8080/",
          "height": 297
        },
        "id": "_IpzRBgg_48Y",
        "outputId": "1e57d4c7-ed84-497e-f5c9-9a9de256cbb4"
      },
      "execution_count": 49,
      "outputs": [
        {
          "output_type": "display_data",
          "data": {
            "text/plain": [
              "<Figure size 432x288 with 9 Axes>"
            ],
            "image/png": "[encoded data removed]"
          },
          "metadata": {
            "needs_background": "light"
          }
        }
      ]
    }
  ]
}