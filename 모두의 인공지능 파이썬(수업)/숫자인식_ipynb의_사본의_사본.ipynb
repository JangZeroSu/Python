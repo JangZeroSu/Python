{
  "nbformat": 4,
  "nbformat_minor": 0,
  "metadata": {
    "colab": {
      "provenance": [],
      "collapsed_sections": []
    },
    "kernelspec": {
      "name": "python3",
      "display_name": "Python 3"
    },
    "language_info": {
      "name": "python"
    },
    "accelerator": "GPU"
  },
  "cells": [
    {
      "cell_type": "code",
      "source": [
        "%tensorflow_version"
      ],
      "metadata": {
        "colab": {
          "base_uri": "https://localhost:8080/"
        },
        "id": "0DsGjFTEGZLm",
        "outputId": "d31c1786-784a-49bb-f877-c99a58c24ab7"
      },
      "execution_count": null,
      "outputs": [
        {
          "output_type": "stream",
          "name": "stdout",
          "text": [
            "Colab only includes TensorFlow 2.x; %tensorflow_version has no effect.\n"
          ]
        }
      ]
    },
    {
      "cell_type": "code",
      "source": [
        "# keras library\n",
        "import keras"
      ],
      "metadata": {
        "id": "rSrZ-HiR4tVC"
      },
      "execution_count": null,
      "outputs": []
    },
    {
      "cell_type": "code",
      "source": [
        "# 개발 환경 만들기\n",
        "from tensorflow.keras.models import Sequential            # 신공망의 종류 (입력층, 은닉층, 출력층)        \n",
        "from tensorflow.keras.layers import Dense, Activation     # 레이어 도구 불러오기 (Dense:뉴런 개수, Activation:활성화 함수)\n",
        "from tensorflow.keras.utils import to_categorical         # to_categorical 유틸 도구중 함수 불러오기\n",
        "from tensorflow.keras.datasets import mnist               # mnist 데이터셋 불러오기 \n",
        "import numpy as np                                        # numpy 수학 계산 library\n",
        "import matplotlib.pyplot as plt                           # matplotlib 그래프 library 사용 (ply= pyplot 그림 그리는 library)"
      ],
      "metadata": {
        "id": "geEF8Lla5sRU"
      },
      "execution_count": null,
      "outputs": []
    },
    {
      "cell_type": "code",
      "source": [],
      "metadata": {
        "id": "5b03kreSLnyL"
      },
      "execution_count": null,
      "outputs": []
    },
    {
      "cell_type": "code",
      "source": [
        "# 데이터셋 불러오기\n",
        "(x_train, y_train), (x_test, y_test) = mnist.load_data()  # mnist 에서 데이터셋 불러오기\n",
        "print(\"x_train shape\", x_train.shape)                     # 출력\n",
        "print(\"x_train shape\", y_train.shape)                     # or 60000개의 데이터 가로 세로 28개씩\n",
        "print(\"x_test shape\", x_test.shape)                       # 출력\n",
        "print(\"y_test shape\", y_test.shape)                       # or 10000개의 ~\n",
        "print()\n",
        "print(\"y_train shape\", y_train.shape)"
      ],
      "metadata": {
        "colab": {
          "base_uri": "https://localhost:8080/"
        },
        "id": "VsUpKP0W8D8V",
        "outputId": "46efe3ea-5b91-48d3-d740-9fd55fa13012"
      },
      "execution_count": null,
      "outputs": [
        {
          "output_type": "stream",
          "name": "stdout",
          "text": [
            "Downloading data from https://storage.googleapis.com/tensorflow/tf-keras-datasets/mnist.npz\n",
            "11490434/11490434 [==============================] - 2s 0us/step\n",
            "x_train shape (60000, 28, 28)\n",
            "x_train shape (60000,)\n",
            "x_test shape (10000, 28, 28)\n",
            "y_test shape (10000,)\n",
            "\n",
            "y_train shape (60000,)\n"
          ]
        }
      ]
    },
    {
      "cell_type": "code",
      "source": [
        "# mnist 데이터셋에서 X 형태 변경\n",
        "X_train = x_train.reshape(60000,784)                      # 28x28 형태의 데이터를 1x784로 변경\n",
        "X_test = x_test.reshape(10000,784)\n",
        "X_train = X_train.astype('float32')                       # 정규화를 위해 0~1 사이의 실수 값으로 변경\n",
        "X_test = X_test.astype('float32')\n",
        "X_train /= 255                                            # mnist(검은색 0, 흰색 255, 회색 1~254)\n",
        "X_test /= 255                                             # or 각 데이터를 255로 나눈 값\n",
        "print(\"X Training matrix shape\", X_train.shape)           # 출력\n",
        "print(\"X Testing matrix shape\", X_test.shape)"
      ],
      "metadata": {
        "colab": {
          "base_uri": "https://localhost:8080/"
        },
        "id": "cwYDgg3p8cj9",
        "outputId": "c1dc1881-51e4-4349-8d14-c3ac11ec80fc"
      },
      "execution_count": null,
      "outputs": [
        {
          "output_type": "stream",
          "name": "stdout",
          "text": [
            "X Training matrix shape (60000, 784)\n",
            "X Testing matrix shape (10000, 784)\n"
          ]
        }
      ]
    },
    {
      "cell_type": "code",
      "source": [
        "# mnist 데이터셋에서 Y 형태 변경\n",
        "Y_train = to_categorical(y_train, 10)                     \n",
        "Y_test = to_categorical(y_test, 10)\n",
        "print(\"Y Training matrix shape\", Y_train.shape)\n",
        "print(\"Y Testing matrix shape\", Y_test.shape)"
      ],
      "metadata": {
        "colab": {
          "base_uri": "https://localhost:8080/"
        },
        "id": "dr_6jv0R9nkv",
        "outputId": "6125cec2-3eff-42c0-9783-0eb59824efe8"
      },
      "execution_count": null,
      "outputs": [
        {
          "output_type": "stream",
          "name": "stdout",
          "text": [
            "Y Training matrix shape (60000, 10)\n",
            "Y Testing matrix shape (10000, 10)\n"
          ]
        }
      ]
    },
    {
      "cell_type": "code",
      "source": [
        "# 인공지능 모델 설계\n",
        "model = Sequential()\n",
        "model.add(Dense(512, input_shape=(784,)))   # 입력784, 은닉층 512\n",
        "model.add(Activation('relu'))\n",
        "model.add(Dense(256))                       # 은닉층 256\n",
        "model.add(Activation('relu'))\n",
        "model.add(Dense(10))                        # 출력층 10\n",
        "model.add(Activation('softmax'))    \n",
        "model.summary()                             "
      ],
      "metadata": {
        "colab": {
          "base_uri": "https://localhost:8080/"
        },
        "id": "RakAMgi15sT7",
        "outputId": "bc781e75-67c6-4e0c-ec15-695b440ec14b"
      },
      "execution_count": null,
      "outputs": [
        {
          "output_type": "stream",
          "name": "stdout",
          "text": [
            "Model: \"sequential\"\n",
            "_________________________________________________________________\n",
            " Layer (type)                Output Shape              Param #   \n",
            "=================================================================\n",
            " dense (Dense)               (None, 512)               401920    \n",
            "                                                                 \n",
            " activation (Activation)     (None, 512)               0         \n",
            "                                                                 \n",
            " dense_1 (Dense)             (None, 256)               131328    \n",
            "                                                                 \n",
            " activation_1 (Activation)   (None, 256)               0         \n",
            "                                                                 \n",
            " dense_2 (Dense)             (None, 10)                2570      \n",
            "                                                                 \n",
            " activation_2 (Activation)   (None, 10)                0         \n",
            "                                                                 \n",
            "=================================================================\n",
            "Total params: 535,818\n",
            "Trainable params: 535,818\n",
            "Non-trainable params: 0\n",
            "_________________________________________________________________\n"
          ]
        }
      ]
    },
    {
      "cell_type": "code",
      "source": [
        "# 모델 학습\n",
        "model.compile(loss='categorical_crossentropy', optimizer='adam', metrics=['accuracy'])\n",
        "model.fit(X_train, Y_train, batch_size=128, epochs=10, verbose=1)"
      ],
      "metadata": {
        "colab": {
          "base_uri": "https://localhost:8080/"
        },
        "id": "aP6wgxVd5sWz",
        "outputId": "c0ef89f3-6c20-47a2-a531-fc2bda438341"
      },
      "execution_count": null,
      "outputs": [
        {
          "output_type": "stream",
          "name": "stdout",
          "text": [
            "Epoch 1/10\n",
            "469/469 [==============================] - 7s 6ms/step - loss: 0.2270 - accuracy: 0.9341\n",
            "Epoch 2/10\n",
            "469/469 [==============================] - 1s 3ms/step - loss: 0.0822 - accuracy: 0.9750\n",
            "Epoch 3/10\n",
            "469/469 [==============================] - 2s 3ms/step - loss: 0.0533 - accuracy: 0.9833\n",
            "Epoch 4/10\n",
            "469/469 [==============================] - 2s 3ms/step - loss: 0.0347 - accuracy: 0.9891\n",
            "Epoch 5/10\n",
            "469/469 [==============================] - 2s 3ms/step - loss: 0.0263 - accuracy: 0.9915\n",
            "Epoch 6/10\n",
            "469/469 [==============================] - 1s 3ms/step - loss: 0.0218 - accuracy: 0.9929\n",
            "Epoch 7/10\n",
            "469/469 [==============================] - 2s 3ms/step - loss: 0.0177 - accuracy: 0.9938\n",
            "Epoch 8/10\n",
            "469/469 [==============================] - 1s 3ms/step - loss: 0.0161 - accuracy: 0.9945\n",
            "Epoch 9/10\n",
            "469/469 [==============================] - 1s 3ms/step - loss: 0.0128 - accuracy: 0.9957\n",
            "Epoch 10/10\n",
            "469/469 [==============================] - 1s 3ms/step - loss: 0.0114 - accuracy: 0.9960\n"
          ]
        },
        {
          "output_type": "execute_result",
          "data": {
            "text/plain": [
              "<keras.callbacks.History at 0x7f79a0425a90>"
            ]
          },
          "metadata": {},
          "execution_count": 7
        }
      ]
    },
    {
      "cell_type": "code",
      "source": [
        "# 모델 정확도\n",
        "score = model.evaluate(X_test, Y_test)\n",
        "print('Test score', score[0])\n",
        "print('Test accuracy:', score[1])"
      ],
      "metadata": {
        "colab": {
          "base_uri": "https://localhost:8080/"
        },
        "id": "RVMzJ2v_5sZT",
        "outputId": "a0c66c77-9e5d-4495-f2f3-3082421f7749"
      },
      "execution_count": null,
      "outputs": [
        {
          "output_type": "stream",
          "name": "stdout",
          "text": [
            "313/313 [==============================] - 1s 3ms/step - loss: 0.0867 - accuracy: 0.9799\n",
            "Test score 0.08670065551996231\n",
            "Test accuracy: 0.9799000024795532\n"
          ]
        }
      ]
    },
    {
      "cell_type": "code",
      "source": [
        "import numpy as np\n",
        "from PIL import Image"
      ],
      "metadata": {
        "id": "ICzsIrgkUlST"
      },
      "execution_count": null,
      "outputs": []
    },
    {
      "cell_type": "markdown",
      "source": [
        "이미지 불러와서 출력"
      ],
      "metadata": {
        "id": "FYK1SOMYUk-z"
      }
    },
    {
      "cell_type": "code",
      "source": [
        "model.save('cnn.h5')"
      ],
      "metadata": {
        "id": "MZ2RzRuOLLBS"
      },
      "execution_count": null,
      "outputs": []
    },
    {
      "cell_type": "code",
      "source": [
        "image = Image.open(\"test2.bmp\")"
      ],
      "metadata": {
        "id": "pTlK5c_DQwCg"
      },
      "execution_count": null,
      "outputs": []
    },
    {
      "cell_type": "code",
      "source": [
        "image1 = np.asarray(image)\n",
        "print(np.shape(image1))\n",
        "r = 0.2989\n",
        "g = 0.5870\n",
        "b = 0.1140\n",
        "gray = image1[:,:,0] * r * + image1[:,:,1] * g + image1[:,:,2] * b\n",
        "Image.fromarray(gray).show()\n",
        "print(gray.shape)"
      ],
      "metadata": {
        "colab": {
          "base_uri": "https://localhost:8080/"
        },
        "id": "BFx8P0ByUgRD",
        "outputId": "ccb2ad86-3cc3-4146-af17-d69cfd1b22df"
      },
      "execution_count": null,
      "outputs": [
        {
          "output_type": "stream",
          "name": "stdout",
          "text": [
            "(28, 28, 3)\n",
            "(28, 28)\n"
          ]
        }
      ]
    },
    {
      "cell_type": "code",
      "source": [
        "gray = gray.reshape(1,784)\n",
        "gray.astype('float32')\n",
        "gray /= 255\n",
        "gray.shape"
      ],
      "metadata": {
        "colab": {
          "base_uri": "https://localhost:8080/"
        },
        "id": "7mywpj0jQwFv",
        "outputId": "376eefec-59b6-4320-a7af-3a0d5b486b2d"
      },
      "execution_count": null,
      "outputs": [
        {
          "output_type": "execute_result",
          "data": {
            "text/plain": [
              "(1, 784)"
            ]
          },
          "metadata": {},
          "execution_count": 53
        }
      ]
    },
    {
      "cell_type": "code",
      "source": [
        "np.argmax(model.predict(gray))"
      ],
      "metadata": {
        "colab": {
          "base_uri": "https://localhost:8080/"
        },
        "id": "czZdp-v1QwI4",
        "outputId": "b5f24802-78b8-4a9f-a29b-531cd8cb2d8e"
      },
      "execution_count": null,
      "outputs": [
        {
          "output_type": "stream",
          "name": "stdout",
          "text": [
            "1/1 [==============================] - 0s 17ms/step\n"
          ]
        },
        {
          "output_type": "execute_result",
          "data": {
            "text/plain": [
              "0"
            ]
          },
          "metadata": {},
          "execution_count": 54
        }
      ]
    },
    {
      "cell_type": "code",
      "source": [],
      "metadata": {
        "id": "aBl9IwAQQwLo"
      },
      "execution_count": null,
      "outputs": []
    },
    {
      "cell_type": "code",
      "source": [],
      "metadata": {
        "id": "KGIScpi4TvWl"
      },
      "execution_count": null,
      "outputs": []
    },
    {
      "cell_type": "code",
      "source": [],
      "metadata": {
        "id": "ajfxZtgWQwT4"
      },
      "execution_count": null,
      "outputs": []
    },
    {
      "cell_type": "code",
      "source": [],
      "metadata": {
        "id": "0loQ0DifQwWw"
      },
      "execution_count": null,
      "outputs": []
    },
    {
      "cell_type": "code",
      "source": [],
      "metadata": {
        "id": "FZ-Mig4EQwZg"
      },
      "execution_count": null,
      "outputs": []
    },
    {
      "cell_type": "code",
      "source": [],
      "metadata": {
        "id": "AWUCzQW-QwcY"
      },
      "execution_count": null,
      "outputs": []
    },
    {
      "cell_type": "code",
      "source": [
        "# 모델 학습 결과\n",
        "predicted_classes = np.argmax(model.predict(X_test), axis=1)\n",
        "correct_indices = np.nonzero(predicted_classes == y_test)[0]\n",
        "incorrect_indices = np.nonzero(predicted_classes != y_test)[0]"
      ],
      "metadata": {
        "id": "VcGbACrx_Z4Y",
        "colab": {
          "base_uri": "https://localhost:8080/"
        },
        "outputId": "89b4646f-193b-4030-ad2d-bc8f661c06dc"
      },
      "execution_count": null,
      "outputs": [
        {
          "output_type": "stream",
          "name": "stdout",
          "text": [
            "313/313 [==============================] - 1s 2ms/step\n"
          ]
        }
      ]
    },
    {
      "cell_type": "code",
      "source": [
        "# 시각화 결과 (잘된)\n",
        "plt.figure()\n",
        "for i in range(9):\n",
        "  plt.subplot(3,3,i+1)\n",
        "  correct = correct_indices[i]\n",
        "  plt.imshow(X_test[correct].reshape(28,28), cmap='gray')\n",
        "  plt.title(\"Predicted {}, Class {}\".format(predicted_classes[correct], y_test[correct]))\n",
        "  plt.tight_layout()"
      ],
      "metadata": {
        "colab": {
          "base_uri": "https://localhost:8080/",
          "height": 297
        },
        "id": "Wqc_y6nN_4oR",
        "outputId": "cca83498-4997-48bc-ff8b-c87cff38a3fa"
      },
      "execution_count": null,
      "outputs": [
        {
          "output_type": "display_data",
          "data": {
            "text/plain": [
              "<Figure size 432x288 with 9 Axes>"
            ],
            "image/png": "[encoded data removed]"
          },
          "metadata": {
            "needs_background": "light"
          }
        }
      ]
    },
    {
      "cell_type": "code",
      "source": [
        "# 시각화 결과 (잘못된)\n",
        "plt.figure()\n",
        "for i in range(9):\n",
        "  plt.subplot(3,3,i+1)\n",
        "  incorrect = incorrect_indices[i]\n",
        "  plt.imshow(X_test[incorrect].reshape(28,28), cmap='gray')\n",
        "  plt.title(\"Predicted {}, Class {}\".format(predicted_classes[incorrect], y_test[incorrect]))\n",
        "  plt.tight_layout()"
      ],
      "metadata": {
        "colab": {
          "base_uri": "https://localhost:8080/",
          "height": 297
        },
        "id": "_IpzRBgg_48Y",
        "outputId": "6de3647f-bc67-4d0b-80c3-3c47056b22a6"
      },
      "execution_count": null,
      "outputs": [
        {
          "output_type": "display_data",
          "data": {
            "text/plain": [
              "<Figure size 432x288 with 9 Axes>"
            ],
            "image/png": "[encoded data removed]"
          },
          "metadata": {
            "needs_background": "light"
          }
        }
      ]
    }
  ]
}