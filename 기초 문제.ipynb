{
 "cells": [
  {
   "cell_type": "markdown",
   "id": "58be7591",
   "metadata": {},
   "source": [
    "# 문제1\n",
    "# range()를 사용하여, 1~100의 수 중, 7의 배수를 리스트 a에 담으시오."
   ]
  },
  {
   "cell_type": "code",
   "execution_count": 222,
   "id": "d0cc27e0",
   "metadata": {},
   "outputs": [
    {
     "name": "stdout",
     "output_type": "stream",
     "text": [
      "[7, 14, 21, 28, 35, 42, 49, 56, 63, 70, 77, 84, 91, 98]\n"
     ]
    },
    {
     "data": {
      "text/plain": [
       "[7, 14, 21, 28, 35, 42, 49, 56, 63, 70, 77, 84, 91, 98]"
      ]
     },
     "execution_count": 222,
     "metadata": {},
     "output_type": "execute_result"
    }
   ],
   "source": [
    "a = []\n",
    "for i in range(1, 100):\n",
    "    if i % 7 == 0:\n",
    "        a.append(i)\n",
    "print(a)       \n",
    "\n",
    "\n",
    "a = list(range(7,101,7))\n",
    "a"
   ]
  },
  {
   "cell_type": "markdown",
   "id": "5fadbc05",
   "metadata": {},
   "source": [
    "# 문제2 \n",
    "# a에서 인덱스 4~7까지 조회하시오."
   ]
  },
  {
   "cell_type": "code",
   "execution_count": 223,
   "id": "cf2e930a",
   "metadata": {},
   "outputs": [
    {
     "data": {
      "text/plain": [
       "[35, 42, 49, 56]"
      ]
     },
     "execution_count": 223,
     "metadata": {},
     "output_type": "execute_result"
    }
   ],
   "source": [
    "a[4:8]"
   ]
  },
  {
   "cell_type": "markdown",
   "id": "a864b0d4",
   "metadata": {},
   "source": [
    "# 문제3\n",
    "#  a의 끝에서 세번째 값을 조회하시오."
   ]
  },
  {
   "cell_type": "code",
   "execution_count": 224,
   "id": "1fbf7c48",
   "metadata": {},
   "outputs": [
    {
     "data": {
      "text/plain": [
       "84"
      ]
     },
     "execution_count": 224,
     "metadata": {},
     "output_type": "execute_result"
    }
   ],
   "source": [
    "a[-3]"
   ]
  },
  {
   "cell_type": "markdown",
   "id": "12662706",
   "metadata": {},
   "source": [
    "# 문제4\n",
    "# a에 데이터 갯수(길이)를 구하시오."
   ]
  },
  {
   "cell_type": "code",
   "execution_count": 225,
   "id": "6f15944f",
   "metadata": {},
   "outputs": [
    {
     "data": {
      "text/plain": [
       "14"
      ]
     },
     "execution_count": 225,
     "metadata": {},
     "output_type": "execute_result"
    }
   ],
   "source": [
    "len(a)"
   ]
  },
  {
   "cell_type": "markdown",
   "id": "f7945893",
   "metadata": {},
   "source": [
    "# 문제5\n",
    "# a 값들의 합과 평균을 구하시오."
   ]
  },
  {
   "cell_type": "code",
   "execution_count": 226,
   "id": "841cfa6f",
   "metadata": {},
   "outputs": [
    {
     "name": "stdout",
     "output_type": "stream",
     "text": [
      "735\n",
      "52.5\n"
     ]
    }
   ],
   "source": [
    "print(sum(a))\n",
    "print(sum(a) / len(a))"
   ]
  },
  {
   "cell_type": "markdown",
   "id": "a66d0528",
   "metadata": {},
   "source": [
    "# 문제6\n",
    "# [심화] 반복문을 이용하여 100이하의 소수(prime number)를 리스트에 담아봅시다."
   ]
  },
  {
   "cell_type": "code",
   "execution_count": 229,
   "id": "82e8d36c",
   "metadata": {},
   "outputs": [
    {
     "name": "stdout",
     "output_type": "stream",
     "text": [
      "[2, 3, 5, 7, 11, 13, 17, 19, 23, 29, 31, 37, 41, 43, 47, 53, 59, 61, 67, 71, 73, 79, 83, 89, 97]\n",
      "[2, 3, 5, 7, 11, 13, 17, 19, 23, 29, 31, 37, 41, 43, 47, 53, 59, 61, 67, 71, 73, 79, 83, 89, 97]\n"
     ]
    }
   ],
   "source": [
    "b = []\n",
    "for i in range(1, 101):\n",
    "    for j in range(2, i+1):\n",
    "        if (j == i):\n",
    "            b.append(i)\n",
    "        elif (i % j == 0):\n",
    "            break\n",
    "print(b) \n",
    "\n",
    "c = []\n",
    "for i in range(2, 101):\n",
    "    count = 0\n",
    "    for j in range(1, i+1):\n",
    "        if i % j == 0:\n",
    "            count += 1    \n",
    "    if count == 2:\n",
    "        c.append(i)\n",
    "print(c)\n",
    "            \n"
   ]
  },
  {
   "cell_type": "markdown",
   "id": "2ebf305f",
   "metadata": {},
   "source": [
    "# 문제7\n",
    "# [심화] 6번의 코드를 참조하여, 소수 추출기 함수를 만들어봅시다."
   ]
  },
  {
   "cell_type": "code",
   "execution_count": 230,
   "id": "acc3c5b5",
   "metadata": {},
   "outputs": [
    {
     "name": "stdout",
     "output_type": "stream",
     "text": [
      "[2, 3, 5, 7, 11, 13, 17, 19, 23, 29, 31, 37, 41, 43, 47, 53, 59, 61, 67, 71, 73, 79, 83, 89, 97]\n"
     ]
    }
   ],
   "source": [
    "def prime(n):\n",
    "    \n",
    "    b = []    \n",
    "    for i in range(1, n):\n",
    "        for j in range(2, i+1):\n",
    "            if (j == i):\n",
    "                b.append(i)\n",
    "            elif (i % j == 0):\n",
    "                break\n",
    "    return b\n",
    "\n",
    "print(prime(101))"
   ]
  },
  {
   "cell_type": "markdown",
   "id": "dd75708c",
   "metadata": {},
   "source": [
    "# 문제8\n",
    "# 아래 값으로 딕셔너리 d를 생성해봅시다.        "
   ]
  },
  {
   "cell_type": "code",
   "execution_count": 204,
   "id": "61487ecd",
   "metadata": {},
   "outputs": [
    {
     "name": "stdout",
     "output_type": "stream",
     "text": [
      "{'v1': [1, 2, 3], 'v2': {'a': 23, 'b': [4, 5]}}\n"
     ]
    }
   ],
   "source": [
    "d = {\"v1\":[1,2,3], \"v2\":{'a':23, 'b':[4,5]}} \n",
    "print(d)"
   ]
  },
  {
   "cell_type": "markdown",
   "id": "2a926f7c",
   "metadata": {},
   "source": [
    "# 문제9\n",
    "# d에서 [1,2,3]을 출력해봅시다."
   ]
  },
  {
   "cell_type": "code",
   "execution_count": 231,
   "id": "fff73b21",
   "metadata": {},
   "outputs": [
    {
     "name": "stdout",
     "output_type": "stream",
     "text": [
      "[1, 2, 3]\n"
     ]
    }
   ],
   "source": [
    "print(d[\"v1\"])"
   ]
  },
  {
   "cell_type": "markdown",
   "id": "1638cfcf",
   "metadata": {},
   "source": [
    "# 문제10\n",
    "# d에서 23을 출력해봅시다."
   ]
  },
  {
   "cell_type": "code",
   "execution_count": 150,
   "id": "7c5ab21d",
   "metadata": {},
   "outputs": [
    {
     "name": "stdout",
     "output_type": "stream",
     "text": [
      "23\n"
     ]
    }
   ],
   "source": [
    "print(d[\"v2\"][\"a\"])"
   ]
  },
  {
   "cell_type": "markdown",
   "id": "db4b193c",
   "metadata": {},
   "source": [
    "# 문제11\n",
    "# d에서 5를 출력해 봅시다."
   ]
  },
  {
   "cell_type": "code",
   "execution_count": 151,
   "id": "a572b14c",
   "metadata": {
    "scrolled": true
   },
   "outputs": [
    {
     "name": "stdout",
     "output_type": "stream",
     "text": [
      "5\n"
     ]
    }
   ],
   "source": [
    "print(d[\"v2\"][\"b\"][1])"
   ]
  },
  {
   "cell_type": "markdown",
   "id": "2757fd3c",
   "metadata": {},
   "source": [
    "# 문제12\n",
    "#  d에 'newKey', value(1,2)를 추가하고 출력해봅시다."
   ]
  },
  {
   "cell_type": "code",
   "execution_count": 152,
   "id": "25ecabc5",
   "metadata": {},
   "outputs": [
    {
     "data": {
      "text/plain": [
       "{'v1': [1, 2, 3], 'v2': {'a': 23, 'b': [4, 5]}, 'newKey': [1, 2]}"
      ]
     },
     "execution_count": 152,
     "metadata": {},
     "output_type": "execute_result"
    }
   ],
   "source": [
    "d[\"newKey\"]=[1,2]\n",
    "d"
   ]
  },
  {
   "cell_type": "markdown",
   "id": "2d48325f",
   "metadata": {},
   "source": [
    "# 문제13\n",
    "# [심화] 반복문과 딕셔너리를 사용하여 주어진 단어에서 가장 많이 사용된 알파벳을 출력해봅시다.\n",
    "* 주어진 단어 : \"Big Data Analysis\" \n",
    "* 대문자, 소문자는 구분하지 않습니다. \n",
    "* 가장 많이 사용된 알파벳을 2개 이상일 경우, 전부 출력해줍니다."
   ]
  },
  {
   "cell_type": "code",
   "execution_count": 210,
   "id": "631882b3",
   "metadata": {},
   "outputs": [],
   "source": [
    "S = \"Big Data Analysis\""
   ]
  },
  {
   "cell_type": "code",
   "execution_count": 211,
   "id": "e1895188",
   "metadata": {},
   "outputs": [
    {
     "data": {
      "text/plain": [
       "False"
      ]
     },
     "execution_count": 211,
     "metadata": {},
     "output_type": "execute_result"
    }
   ],
   "source": [
    "'c' in d"
   ]
  },
  {
   "cell_type": "code",
   "execution_count": 220,
   "id": "8c52a211",
   "metadata": {},
   "outputs": [
    {
     "data": {
      "text/plain": [
       "{'B': 1,\n",
       " 'i': 1,\n",
       " 'g': 1,\n",
       " ' ': 1,\n",
       " 'D': 1,\n",
       " 'a': 1,\n",
       " 't': 1,\n",
       " 'A': 1,\n",
       " 'n': 1,\n",
       " 'l': 1,\n",
       " 'y': 1,\n",
       " 's': 1}"
      ]
     },
     "execution_count": 220,
     "metadata": {},
     "output_type": "execute_result"
    }
   ],
   "source": [
    "alphabet = {}\n",
    "for i in S:\n",
    "    if i not in alphabet:\n",
    "        alphabet[i] = 1\n",
    "    else:\n",
    "        alphabet[i] = 1\n",
    "alphabet"
   ]
  },
  {
   "cell_type": "code",
   "execution_count": 221,
   "id": "a08ad7bd",
   "metadata": {},
   "outputs": [
    {
     "name": "stdout",
     "output_type": "stream",
     "text": [
      "B\n",
      "i\n",
      "g\n",
      " \n",
      "D\n",
      "a\n",
      "t\n",
      "A\n",
      "n\n",
      "l\n",
      "y\n",
      "s\n"
     ]
    }
   ],
   "source": [
    "for i in alphabet:\n",
    "    print(i)"
   ]
  },
  {
   "cell_type": "code",
   "execution_count": 219,
   "id": "8ab65a55",
   "metadata": {},
   "outputs": [
    {
     "name": "stdout",
     "output_type": "stream",
     "text": [
      "big data analysis\n",
      "{'b': 1, 'i': 2, 'g': 1, ' ': 2, 'd': 1, 'a': 4, 't': 1, 'n': 1, 'l': 1, 'y': 1, 's': 2}\n",
      "a\n",
      "['a']\n"
     ]
    }
   ],
   "source": [
    "string = \"big data analysis\"\n",
    "print(string)\n",
    "dic = {}\n",
    "for x in string:\n",
    "    if x in dic:\n",
    "        dic[x] += 1\n",
    "    else:\n",
    "        dic[x] = 1\n",
    "\n",
    "print(dic)\n",
    "print(max(dic, key = dic.get))\n",
    "print([k for k,v in dic.items() if max(dic.values()) == v])"
   ]
  }
 ],
 "metadata": {
  "celltoolbar": "Raw Cell Format",
  "kernelspec": {
   "display_name": "Python 3 (ipykernel)",
   "language": "python",
   "name": "python3"
  },
  "language_info": {
   "codemirror_mode": {
    "name": "ipython",
    "version": 3
   },
   "file_extension": ".py",
   "mimetype": "text/x-python",
   "name": "python",
   "nbconvert_exporter": "python",
   "pygments_lexer": "ipython3",
   "version": "3.9.12"
  }
 },
 "nbformat": 4,
 "nbformat_minor": 5
}
