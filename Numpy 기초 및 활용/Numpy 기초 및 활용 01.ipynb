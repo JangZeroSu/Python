{
 "cells": [
  {
   "cell_type": "code",
   "execution_count": 14,
   "id": "4079215f",
   "metadata": {},
   "outputs": [],
   "source": [
    "import numpy as np"
   ]
  },
  {
   "cell_type": "markdown",
   "id": "1cb723a3",
   "metadata": {},
   "source": [
    "## reshape"
   ]
  },
  {
   "cell_type": "code",
   "execution_count": 11,
   "id": "3cf69e7b",
   "metadata": {},
   "outputs": [],
   "source": [
    "arr = np.array([[1,2,3],[4,5,6]])"
   ]
  },
  {
   "cell_type": "code",
   "execution_count": 9,
   "id": "6b973a92",
   "metadata": {},
   "outputs": [
    {
     "name": "stdout",
     "output_type": "stream",
     "text": [
      "[[1]\n",
      " [2]\n",
      " [3]\n",
      " [4]\n",
      " [5]\n",
      " [6]]\n"
     ]
    }
   ],
   "source": [
    "print(arr.reshape(6,1))"
   ]
  },
  {
   "cell_type": "code",
   "execution_count": 12,
   "id": "722a0c72",
   "metadata": {},
   "outputs": [
    {
     "name": "stdout",
     "output_type": "stream",
     "text": [
      "[[1 2]\n",
      " [3 4]\n",
      " [5 6]]\n"
     ]
    }
   ],
   "source": [
    "print(arr.reshape(3,2))"
   ]
  },
  {
   "cell_type": "code",
   "execution_count": 16,
   "id": "96211b5b",
   "metadata": {},
   "outputs": [
    {
     "name": "stdout",
     "output_type": "stream",
     "text": [
      "[[1 2 3 4 5 6]]\n"
     ]
    }
   ],
   "source": [
    "print(arr.reshape(1,6))"
   ]
  },
  {
   "cell_type": "markdown",
   "id": "c5320383",
   "metadata": {},
   "source": [
    "## arange"
   ]
  },
  {
   "cell_type": "code",
   "execution_count": 19,
   "id": "a6d75167",
   "metadata": {},
   "outputs": [
    {
     "name": "stdout",
     "output_type": "stream",
     "text": [
      "[ 0  1  2  3  4  5  6  7  8  9 10 11 12 13 14 15 16 17 18 19 20 21 22 23\n",
      " 24 25 26 27 28 29]\n"
     ]
    }
   ],
   "source": [
    "print(np.arange(30))"
   ]
  },
  {
   "cell_type": "code",
   "execution_count": 21,
   "id": "b74a990a",
   "metadata": {},
   "outputs": [
    {
     "name": "stdout",
     "output_type": "stream",
     "text": [
      "[0 3 6 9]\n"
     ]
    }
   ],
   "source": [
    "print(np.arange(0,10,3))"
   ]
  },
  {
   "cell_type": "markdown",
   "id": "4e3b3e40",
   "metadata": {},
   "source": [
    "## reshape + arange"
   ]
  },
  {
   "cell_type": "code",
   "execution_count": 24,
   "id": "b074427d",
   "metadata": {},
   "outputs": [
    {
     "name": "stdout",
     "output_type": "stream",
     "text": [
      "[[ 1  2  3  4  5]\n",
      " [ 6  7  8  9 10]\n",
      " [11 12 13 14 15]\n",
      " [16 17 18 19 20]\n",
      " [21 22 23 24 25]]\n"
     ]
    }
   ],
   "source": [
    "print(np.arange(1, 26).reshape(5,5))"
   ]
  },
  {
   "cell_type": "code",
   "execution_count": 30,
   "id": "346bdcd8",
   "metadata": {
    "scrolled": true
   },
   "outputs": [
    {
     "name": "stdout",
     "output_type": "stream",
     "text": [
      "[[[0.  0.2 0.4 0.6 0.8]\n",
      "  [1.  1.2 1.4 1.6 1.8]]\n",
      "\n",
      " [[2.  2.2 2.4 2.6 2.8]\n",
      "  [3.  3.2 3.4 3.6 3.8]]\n",
      "\n",
      " [[4.  4.2 4.4 4.6 4.8]\n",
      "  [5.  5.2 5.4 5.6 5.8]]]\n"
     ]
    }
   ],
   "source": [
    "print(np.arange(0,6,0.2).reshape(3,2,5))"
   ]
  },
  {
   "cell_type": "markdown",
   "id": "8f868e58",
   "metadata": {},
   "source": [
    "## zeros         np((shape,dtype)"
   ]
  },
  {
   "cell_type": "code",
   "execution_count": 34,
   "id": "7bdebc74",
   "metadata": {},
   "outputs": [
    {
     "data": {
      "text/plain": [
       "array([0., 0., 0., 0., 0.])"
      ]
     },
     "execution_count": 34,
     "metadata": {},
     "output_type": "execute_result"
    }
   ],
   "source": [
    "np.zeros(5)"
   ]
  },
  {
   "cell_type": "code",
   "execution_count": 36,
   "id": "fb5be43f",
   "metadata": {},
   "outputs": [
    {
     "data": {
      "text/plain": [
       "array([[0.],\n",
       "       [0.],\n",
       "       [0.],\n",
       "       [0.],\n",
       "       [0.]])"
      ]
     },
     "execution_count": 36,
     "metadata": {},
     "output_type": "execute_result"
    }
   ],
   "source": [
    "np.zeros((5,1))"
   ]
  },
  {
   "cell_type": "code",
   "execution_count": 46,
   "id": "6c679ec2",
   "metadata": {},
   "outputs": [
    {
     "data": {
      "text/plain": [
       "array([[0, 0, 0],\n",
       "       [0, 0, 0]])"
      ]
     },
     "execution_count": 46,
     "metadata": {},
     "output_type": "execute_result"
    }
   ],
   "source": [
    "np.zeros((2,3),dtype = int)"
   ]
  },
  {
   "cell_type": "markdown",
   "id": "895cff8a",
   "metadata": {},
   "source": [
    "## ones"
   ]
  },
  {
   "cell_type": "code",
   "execution_count": 49,
   "id": "2ff545a3",
   "metadata": {},
   "outputs": [
    {
     "data": {
      "text/plain": [
       "array([[1, 1, 1, 1, 1],\n",
       "       [1, 1, 1, 1, 1]])"
      ]
     },
     "execution_count": 49,
     "metadata": {},
     "output_type": "execute_result"
    }
   ],
   "source": [
    "np.ones((2,5),dtype = int)"
   ]
  },
  {
   "cell_type": "markdown",
   "id": "c83ff024",
   "metadata": {},
   "source": [
    "## empty"
   ]
  },
  {
   "cell_type": "code",
   "execution_count": 51,
   "id": "61fc87ed",
   "metadata": {},
   "outputs": [
    {
     "data": {
      "text/plain": [
       "array([[0., 0., 0.],\n",
       "       [0., 0., 0.]])"
      ]
     },
     "execution_count": 51,
     "metadata": {},
     "output_type": "execute_result"
    }
   ],
   "source": [
    "np.empty((2,3))"
   ]
  },
  {
   "cell_type": "markdown",
   "id": "c3dd0107",
   "metadata": {},
   "source": [
    "## zeros_like  \n",
    "## ones_like  \n",
    "## empty_like"
   ]
  },
  {
   "cell_type": "code",
   "execution_count": 66,
   "id": "d31ac3c5",
   "metadata": {},
   "outputs": [
    {
     "data": {
      "text/plain": [
       "dtype('int32')"
      ]
     },
     "execution_count": 66,
     "metadata": {},
     "output_type": "execute_result"
    }
   ],
   "source": [
    "arr = np.arange(24).reshape(4,6)\n",
    "arr.dtype"
   ]
  },
  {
   "cell_type": "code",
   "execution_count": 73,
   "id": "cf943e1b",
   "metadata": {},
   "outputs": [
    {
     "data": {
      "text/plain": [
       "array([[0, 0, 0, 0, 0, 0],\n",
       "       [0, 0, 0, 0, 0, 0],\n",
       "       [0, 0, 0, 0, 0, 0],\n",
       "       [0, 0, 0, 0, 0, 0]])"
      ]
     },
     "execution_count": 73,
     "metadata": {},
     "output_type": "execute_result"
    }
   ],
   "source": [
    "np.zeros_like(arr)"
   ]
  },
  {
   "cell_type": "code",
   "execution_count": 75,
   "id": "bd8f7a51",
   "metadata": {},
   "outputs": [
    {
     "data": {
      "text/plain": [
       "dtype('float64')"
      ]
     },
     "execution_count": 75,
     "metadata": {},
     "output_type": "execute_result"
    }
   ],
   "source": [
    "arr = np.arange(-2,2,0.2).reshape(2,10)\n",
    "arr.dtype"
   ]
  },
  {
   "cell_type": "code",
   "execution_count": 78,
   "id": "82e38142",
   "metadata": {},
   "outputs": [
    {
     "data": {
      "text/plain": [
       "array([[1., 1., 1., 1., 1., 1., 1., 1., 1., 1.],\n",
       "       [1., 1., 1., 1., 1., 1., 1., 1., 1., 1.]])"
      ]
     },
     "execution_count": 78,
     "metadata": {},
     "output_type": "execute_result"
    }
   ],
   "source": [
    "np.ones_like(arr)"
   ]
  },
  {
   "cell_type": "code",
   "execution_count": 79,
   "id": "a59d451a",
   "metadata": {},
   "outputs": [
    {
     "data": {
      "text/plain": [
       "array([[1., 1., 1., 1., 1., 1., 1., 1., 1., 1.],\n",
       "       [1., 1., 1., 1., 1., 1., 1., 1., 1., 1.]])"
      ]
     },
     "execution_count": 79,
     "metadata": {},
     "output_type": "execute_result"
    }
   ],
   "source": [
    "np.empty_like(arr)"
   ]
  },
  {
   "cell_type": "markdown",
   "id": "7b3b62cc",
   "metadata": {},
   "source": [
    "## identity"
   ]
  },
  {
   "cell_type": "code",
   "execution_count": 81,
   "id": "7020561b",
   "metadata": {},
   "outputs": [
    {
     "data": {
      "text/plain": [
       "array([[1, 0, 0, 0, 0],\n",
       "       [0, 1, 0, 0, 0],\n",
       "       [0, 0, 1, 0, 0],\n",
       "       [0, 0, 0, 1, 0],\n",
       "       [0, 0, 0, 0, 1]])"
      ]
     },
     "execution_count": 81,
     "metadata": {},
     "output_type": "execute_result"
    }
   ],
   "source": [
    "np.identity((5),dtype = int)"
   ]
  },
  {
   "cell_type": "code",
   "execution_count": 83,
   "id": "4cc53609",
   "metadata": {},
   "outputs": [
    {
     "data": {
      "text/plain": [
       "array([[1., 0.],\n",
       "       [0., 1.]])"
      ]
     },
     "execution_count": 83,
     "metadata": {},
     "output_type": "execute_result"
    }
   ],
   "source": [
    "np.identity(2)"
   ]
  },
  {
   "cell_type": "markdown",
   "id": "fb01ce5c",
   "metadata": {},
   "source": [
    "## eye(size, m, k, dtype)\n",
    "# k : 대각선의 시작 위치를 입력 받은 수 만큼 오른쪽으로 이동\n",
    "# m : 보여지는 열의 개수 지정"
   ]
  },
  {
   "cell_type": "code",
   "execution_count": 87,
   "id": "93422d2d",
   "metadata": {},
   "outputs": [
    {
     "data": {
      "text/plain": [
       "array([[1, 0, 0, 0, 0],\n",
       "       [0, 1, 0, 0, 0],\n",
       "       [0, 0, 1, 0, 0],\n",
       "       [0, 0, 0, 1, 0],\n",
       "       [0, 0, 0, 0, 1]])"
      ]
     },
     "execution_count": 87,
     "metadata": {},
     "output_type": "execute_result"
    }
   ],
   "source": [
    "np.eye((5),dtype = int)"
   ]
  },
  {
   "cell_type": "code",
   "execution_count": 99,
   "id": "39f7078b",
   "metadata": {},
   "outputs": [
    {
     "data": {
      "text/plain": [
       "array([[0., 0., 0., 0., 0., 0., 0., 0.],\n",
       "       [1., 0., 0., 0., 0., 0., 0., 0.],\n",
       "       [0., 1., 0., 0., 0., 0., 0., 0.],\n",
       "       [0., 0., 1., 0., 0., 0., 0., 0.],\n",
       "       [0., 0., 0., 1., 0., 0., 0., 0.]])"
      ]
     },
     "execution_count": 99,
     "metadata": {},
     "output_type": "execute_result"
    }
   ],
   "source": [
    "np.eye(5, M = 8, k = -1)"
   ]
  },
  {
   "cell_type": "markdown",
   "id": "3e6c765c",
   "metadata": {},
   "source": [
    "## full "
   ]
  },
  {
   "cell_type": "code",
   "execution_count": 102,
   "id": "78a83d97",
   "metadata": {},
   "outputs": [
    {
     "data": {
      "text/plain": [
       "array([[[5, 5, 5, 5, 5],\n",
       "        [5, 5, 5, 5, 5]],\n",
       "\n",
       "       [[5, 5, 5, 5, 5],\n",
       "        [5, 5, 5, 5, 5]],\n",
       "\n",
       "       [[5, 5, 5, 5, 5],\n",
       "        [5, 5, 5, 5, 5]]])"
      ]
     },
     "execution_count": 102,
     "metadata": {},
     "output_type": "execute_result"
    }
   ],
   "source": [
    "np.full((3,2,5),5)"
   ]
  },
  {
   "cell_type": "markdown",
   "id": "1135f8b4",
   "metadata": {},
   "source": [
    "## random.randint"
   ]
  },
  {
   "cell_type": "code",
   "execution_count": 233,
   "id": "429e6850",
   "metadata": {},
   "outputs": [
    {
     "data": {
      "text/plain": [
       "5"
      ]
     },
     "execution_count": 233,
     "metadata": {},
     "output_type": "execute_result"
    }
   ],
   "source": [
    "# 0 ~ 5\n",
    "np.random.randint(6)"
   ]
  },
  {
   "cell_type": "code",
   "execution_count": 393,
   "id": "fbcd104c",
   "metadata": {},
   "outputs": [
    {
     "data": {
      "text/plain": [
       "array([14, 14])"
      ]
     },
     "execution_count": 393,
     "metadata": {},
     "output_type": "execute_result"
    }
   ],
   "source": [
    "# 1 ~ 19\n",
    "np.random.randint(1,20,size = 2)\n",
    "np.random.randint(1,20,2)"
   ]
  },
  {
   "cell_type": "code",
   "execution_count": 530,
   "id": "04dd44e5",
   "metadata": {},
   "outputs": [
    {
     "data": {
      "text/plain": [
       "(1, 10, 10)"
      ]
     },
     "execution_count": 530,
     "metadata": {},
     "output_type": "execute_result"
    }
   ],
   "source": [
    "np.random.randint(1,10,10)"
   ]
  },
  {
   "cell_type": "markdown",
   "id": "2f7704fc",
   "metadata": {},
   "source": [
    "## random.rand"
   ]
  },
  {
   "cell_type": "code",
   "execution_count": 532,
   "id": "a53ae1a6",
   "metadata": {},
   "outputs": [
    {
     "data": {
      "text/plain": [
       "array([[0.98666513, 0.81495843],\n",
       "       [0.31332657, 0.49155235],\n",
       "       [0.78496244, 0.54899225]])"
      ]
     },
     "execution_count": 532,
     "metadata": {},
     "output_type": "execute_result"
    }
   ],
   "source": [
    "## 0 ~ 1 값\n",
    "np.random.rand(3,2)"
   ]
  },
  {
   "cell_type": "markdown",
   "id": "c77b8455",
   "metadata": {},
   "source": [
    "## random.randn"
   ]
  },
  {
   "cell_type": "code",
   "execution_count": 535,
   "id": "e19bf977",
   "metadata": {},
   "outputs": [
    {
     "data": {
      "text/plain": [
       "array([[ 0.23017664, -0.946901  ],\n",
       "       [-0.90743051, -0.58651239],\n",
       "       [ 0.92268882,  0.25891617]])"
      ]
     },
     "execution_count": 535,
     "metadata": {},
     "output_type": "execute_result"
    }
   ],
   "source": [
    "# 평균 0 표준편자 1\n",
    "np.random.randn(3,2)"
   ]
  },
  {
   "cell_type": "markdown",
   "id": "a24c4740",
   "metadata": {},
   "source": [
    "## 연산"
   ]
  },
  {
   "cell_type": "code",
   "execution_count": 552,
   "id": "513e826e",
   "metadata": {},
   "outputs": [
    {
     "data": {
      "text/plain": [
       "array([[-0.06117983,  1.0988409 ],\n",
       "       [-0.40259999,  0.21805393],\n",
       "       [-1.13389541, -0.12901068],\n",
       "       [ 0.86763911,  0.17598246],\n",
       "       [ 0.17468309,  1.21801347]])"
      ]
     },
     "execution_count": 552,
     "metadata": {},
     "output_type": "execute_result"
    }
   ],
   "source": [
    "# sum\n",
    "arr = np.random.randn(5,2)\n",
    "arr"
   ]
  },
  {
   "cell_type": "code",
   "execution_count": 548,
   "id": "7b42b1c8",
   "metadata": {},
   "outputs": [
    {
     "data": {
      "text/plain": [
       "array([-3.9256439 ,  2.95944096])"
      ]
     },
     "execution_count": 548,
     "metadata": {},
     "output_type": "execute_result"
    }
   ],
   "source": [
    "sum(arr)"
   ]
  },
  {
   "cell_type": "code",
   "execution_count": 556,
   "id": "c86f144a",
   "metadata": {},
   "outputs": [
    {
     "data": {
      "text/plain": [
       "array([-0.55535303,  2.58188008])"
      ]
     },
     "execution_count": 556,
     "metadata": {},
     "output_type": "execute_result"
    }
   ],
   "source": [
    "arr.sum(axis=0) # 위 아래"
   ]
  },
  {
   "cell_type": "code",
   "execution_count": 555,
   "id": "1fbae4b7",
   "metadata": {},
   "outputs": [
    {
     "data": {
      "text/plain": [
       "array([ 1.03766106, -0.18454605, -1.2629061 ,  1.04362157,  1.39269656])"
      ]
     },
     "execution_count": 555,
     "metadata": {},
     "output_type": "execute_result"
    }
   ],
   "source": [
    "arr.sum(axis=1) # 좌우"
   ]
  },
  {
   "cell_type": "code",
   "execution_count": 553,
   "id": "ddcb4165",
   "metadata": {},
   "outputs": [
    {
     "data": {
      "text/plain": [
       "0.2026527046524922"
      ]
     },
     "execution_count": 553,
     "metadata": {},
     "output_type": "execute_result"
    }
   ],
   "source": [
    "# mean\n",
    "arr.mean()"
   ]
  },
  {
   "cell_type": "code",
   "execution_count": 558,
   "id": "138f8ab0",
   "metadata": {},
   "outputs": [
    {
     "data": {
      "text/plain": [
       "0.6789954617564196"
      ]
     },
     "execution_count": 558,
     "metadata": {},
     "output_type": "execute_result"
    }
   ],
   "source": [
    "# std\n",
    "arr.std()"
   ]
  },
  {
   "cell_type": "code",
   "execution_count": 560,
   "id": "01380915",
   "metadata": {},
   "outputs": [
    {
     "data": {
      "text/plain": [
       "array([0.65926883, 0.53906368])"
      ]
     },
     "execution_count": 560,
     "metadata": {},
     "output_type": "execute_result"
    }
   ],
   "source": [
    "arr.std(axis=0) # 위 아래"
   ]
  },
  {
   "cell_type": "code",
   "execution_count": 561,
   "id": "cbedba49",
   "metadata": {},
   "outputs": [
    {
     "data": {
      "text/plain": [
       "array([0.58001036, 0.31032696, 0.50244237, 0.34582832, 0.52166519])"
      ]
     },
     "execution_count": 561,
     "metadata": {},
     "output_type": "execute_result"
    }
   ],
   "source": [
    "arr.std(axis=1) # 좌우"
   ]
  },
  {
   "cell_type": "code",
   "execution_count": null,
   "id": "bee25642",
   "metadata": {},
   "outputs": [],
   "source": []
  },
  {
   "cell_type": "markdown",
   "id": "3d2f0866",
   "metadata": {},
   "source": [
    "## sort 배열 정렬"
   ]
  },
  {
   "cell_type": "code",
   "execution_count": null,
   "id": "e95d50e9",
   "metadata": {},
   "outputs": [],
   "source": [
    "[ np.random.randint(1,101) for n in range(5)  ]"
   ]
  },
  {
   "cell_type": "code",
   "execution_count": 570,
   "id": "fcb84695",
   "metadata": {},
   "outputs": [
    {
     "data": {
      "text/plain": [
       "67"
      ]
     },
     "execution_count": 570,
     "metadata": {},
     "output_type": "execute_result"
    }
   ],
   "source": [
    "np.random.randint(1,101)"
   ]
  },
  {
   "cell_type": "code",
   "execution_count": 577,
   "id": "201b5fc7",
   "metadata": {},
   "outputs": [
    {
     "data": {
      "text/plain": [
       "[0, 0, 2, 0, 4]"
      ]
     },
     "execution_count": 577,
     "metadata": {},
     "output_type": "execute_result"
    }
   ],
   "source": [
    "[ i if i % 2 ==0 else 0 for i in range(5)]"
   ]
  },
  {
   "cell_type": "code",
   "execution_count": 615,
   "id": "38dcdff2",
   "metadata": {},
   "outputs": [
    {
     "data": {
      "text/plain": [
       "array([[1, 2, 3],\n",
       "       [1, 2, 3]])"
      ]
     },
     "execution_count": 615,
     "metadata": {},
     "output_type": "execute_result"
    }
   ],
   "source": [
    "vector1 = np.array([1,2,3])\n",
    "vector2 = np.array([4,5,6])\n",
    "\n",
    "np.vstack([vector1, vector1])  # 수직 합체"
   ]
  },
  {
   "cell_type": "code",
   "execution_count": 584,
   "id": "0f83e0d4",
   "metadata": {},
   "outputs": [
    {
     "data": {
      "text/plain": [
       "array([[1, 4],\n",
       "       [2, 5],\n",
       "       [3, 6]])"
      ]
     },
     "execution_count": 584,
     "metadata": {},
     "output_type": "execute_result"
    }
   ],
   "source": [
    "vector1 = np.array([1,2,3]).reshape(3,1)\n",
    "vector2 = np.array([4,5,6]).reshape(3,1)\n",
    "\n",
    "np.hstack([vector1,vector2])  # 수평 합체"
   ]
  },
  {
   "cell_type": "code",
   "execution_count": 594,
   "id": "fdbac60f",
   "metadata": {},
   "outputs": [
    {
     "data": {
      "text/plain": [
       "array([[1],\n",
       "       [2],\n",
       "       [3],\n",
       "       [4],\n",
       "       [5],\n",
       "       [6]])"
      ]
     },
     "execution_count": 594,
     "metadata": {},
     "output_type": "execute_result"
    }
   ],
   "source": [
    "vector1 = np.array([1,2,3]).reshape(3,1)\n",
    "vector2 = np.array([4,5,6]).reshape(3,1)\n",
    "\n",
    "np.concatenate([vector1,vector2],axis=0)   #0: 수직   1: 수평"
   ]
  },
  {
   "cell_type": "code",
   "execution_count": 595,
   "id": "78ffbb8c",
   "metadata": {},
   "outputs": [],
   "source": [
    "matrix = np.array([[1,2,3],[4,5,6]])\n",
    "vector = np.array([7,8,9])"
   ]
  },
  {
   "cell_type": "code",
   "execution_count": 616,
   "id": "29da8683",
   "metadata": {},
   "outputs": [
    {
     "data": {
      "text/plain": [
       "array([[1, 2, 3],\n",
       "       [4, 5, 6],\n",
       "       [7, 8, 9]])"
      ]
     },
     "execution_count": 616,
     "metadata": {},
     "output_type": "execute_result"
    }
   ],
   "source": [
    "np.vstack([matrix,vector])"
   ]
  },
  {
   "cell_type": "markdown",
   "id": "0a7f31d8",
   "metadata": {},
   "source": [
    "## 행/열 바꾸기 (transpose)"
   ]
  },
  {
   "cell_type": "code",
   "execution_count": 632,
   "id": "d9e06c52",
   "metadata": {},
   "outputs": [
    {
     "data": {
      "text/plain": [
       "array([[1, 2, 3],\n",
       "       [4, 5, 6]])"
      ]
     },
     "execution_count": 632,
     "metadata": {},
     "output_type": "execute_result"
    }
   ],
   "source": [
    "matrix"
   ]
  },
  {
   "cell_type": "code",
   "execution_count": 633,
   "id": "61340147",
   "metadata": {},
   "outputs": [
    {
     "data": {
      "text/plain": [
       "array([[1, 4],\n",
       "       [2, 5],\n",
       "       [3, 6]])"
      ]
     },
     "execution_count": 633,
     "metadata": {},
     "output_type": "execute_result"
    }
   ],
   "source": [
    "matrix.T"
   ]
  },
  {
   "cell_type": "code",
   "execution_count": 637,
   "id": "1be110d8",
   "metadata": {},
   "outputs": [
    {
     "data": {
      "text/plain": [
       "array([[1, 4],\n",
       "       [2, 5],\n",
       "       [3, 6]])"
      ]
     },
     "execution_count": 637,
     "metadata": {},
     "output_type": "execute_result"
    }
   ],
   "source": [
    "np.concatenate([matrix.T],axis=1)"
   ]
  },
  {
   "cell_type": "markdown",
   "id": "40698d70",
   "metadata": {},
   "source": [
    "## argmax, agrmin"
   ]
  },
  {
   "cell_type": "code",
   "execution_count": 641,
   "id": "fc67c350",
   "metadata": {},
   "outputs": [
    {
     "data": {
      "text/plain": [
       "array([[ 1,  2,  3,  4,  5],\n",
       "       [ 6,  7,  8,  9, 10]])"
      ]
     },
     "execution_count": 641,
     "metadata": {},
     "output_type": "execute_result"
    }
   ],
   "source": [
    "arr = np.arange(1,11).reshape(2,5)\n",
    "arr"
   ]
  },
  {
   "cell_type": "code",
   "execution_count": 648,
   "id": "ee88cf11",
   "metadata": {},
   "outputs": [
    {
     "data": {
      "text/plain": [
       "(0, 9)"
      ]
     },
     "execution_count": 648,
     "metadata": {},
     "output_type": "execute_result"
    }
   ],
   "source": [
    "np.argmin(arr),np.argmax(arr)  # 인덱스 값"
   ]
  },
  {
   "cell_type": "markdown",
   "id": "0fc14e89",
   "metadata": {},
   "source": [
    "## fancy index"
   ]
  },
  {
   "cell_type": "code",
   "execution_count": 658,
   "id": "0f0fa55a",
   "metadata": {},
   "outputs": [
    {
     "data": {
      "text/plain": [
       "array([ 1,  2,  3,  4,  5,  6,  7,  8,  9, 10])"
      ]
     },
     "execution_count": 658,
     "metadata": {},
     "output_type": "execute_result"
    }
   ],
   "source": [
    "a = np.arange(1,11)\n",
    "a"
   ]
  },
  {
   "cell_type": "code",
   "execution_count": 662,
   "id": "36dfadff",
   "metadata": {},
   "outputs": [],
   "source": [
    "b = np.argmax(a)"
   ]
  },
  {
   "cell_type": "code",
   "execution_count": 663,
   "id": "d011193c",
   "metadata": {},
   "outputs": [
    {
     "name": "stdout",
     "output_type": "stream",
     "text": [
      "10\n"
     ]
    }
   ],
   "source": [
    "print(a[b])"
   ]
  },
  {
   "cell_type": "code",
   "execution_count": null,
   "id": "67e4b904",
   "metadata": {},
   "outputs": [],
   "source": []
  }
 ],
 "metadata": {
  "kernelspec": {
   "display_name": "Python 3 (ipykernel)",
   "language": "python",
   "name": "python3"
  },
  "language_info": {
   "codemirror_mode": {
    "name": "ipython",
    "version": 3
   },
   "file_extension": ".py",
   "mimetype": "text/x-python",
   "name": "python",
   "nbconvert_exporter": "python",
   "pygments_lexer": "ipython3",
   "version": "3.9.12"
  }
 },
 "nbformat": 4,
 "nbformat_minor": 5
}
